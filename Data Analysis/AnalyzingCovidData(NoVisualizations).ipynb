{
 "cells": [
  {
   "cell_type": "markdown",
   "metadata": {},
   "source": [
    "# Capstone Project 3"
   ]
  },
  {
   "cell_type": "code",
   "execution_count": 5,
   "metadata": {},
   "outputs": [],
   "source": [
    "# import pandas library\n",
    "import pandas as pd"
   ]
  },
  {
   "cell_type": "markdown",
   "metadata": {},
   "source": [
    "### Activity 1: Read CSV File"
   ]
  },
  {
   "cell_type": "code",
   "execution_count": 42,
   "metadata": {},
   "outputs": [
    {
     "data": {
      "text/html": [
       "<div>\n",
       "<style scoped>\n",
       "    .dataframe tbody tr th:only-of-type {\n",
       "        vertical-align: middle;\n",
       "    }\n",
       "\n",
       "    .dataframe tbody tr th {\n",
       "        vertical-align: top;\n",
       "    }\n",
       "\n",
       "    .dataframe thead th {\n",
       "        text-align: right;\n",
       "    }\n",
       "</style>\n",
       "<table border=\"1\" class=\"dataframe\">\n",
       "  <thead>\n",
       "    <tr style=\"text-align: right;\">\n",
       "      <th></th>\n",
       "      <th>iso_code</th>\n",
       "      <th>continent</th>\n",
       "      <th>location</th>\n",
       "      <th>date</th>\n",
       "      <th>total_cases</th>\n",
       "      <th>new_cases</th>\n",
       "      <th>new_cases_smoothed</th>\n",
       "      <th>total_deaths</th>\n",
       "      <th>new_deaths</th>\n",
       "      <th>new_deaths_smoothed</th>\n",
       "      <th>...</th>\n",
       "      <th>new_deaths_smoothed_per_million</th>\n",
       "      <th>population_density</th>\n",
       "      <th>median_age</th>\n",
       "      <th>aged_65_older</th>\n",
       "      <th>aged_70_older</th>\n",
       "      <th>gdp_per_capita</th>\n",
       "      <th>cardiovasc_death_rate</th>\n",
       "      <th>diabetes_prevalence</th>\n",
       "      <th>life_expectancy</th>\n",
       "      <th>population</th>\n",
       "    </tr>\n",
       "    <tr>\n",
       "      <th>index</th>\n",
       "      <th></th>\n",
       "      <th></th>\n",
       "      <th></th>\n",
       "      <th></th>\n",
       "      <th></th>\n",
       "      <th></th>\n",
       "      <th></th>\n",
       "      <th></th>\n",
       "      <th></th>\n",
       "      <th></th>\n",
       "      <th></th>\n",
       "      <th></th>\n",
       "      <th></th>\n",
       "      <th></th>\n",
       "      <th></th>\n",
       "      <th></th>\n",
       "      <th></th>\n",
       "      <th></th>\n",
       "      <th></th>\n",
       "      <th></th>\n",
       "      <th></th>\n",
       "    </tr>\n",
       "  </thead>\n",
       "  <tbody>\n",
       "    <tr>\n",
       "      <th>0</th>\n",
       "      <td>AFG</td>\n",
       "      <td>Asia</td>\n",
       "      <td>Afghanistan</td>\n",
       "      <td>2020-03-28</td>\n",
       "      <td>106.0</td>\n",
       "      <td>15.0</td>\n",
       "      <td>11.714</td>\n",
       "      <td>2.0</td>\n",
       "      <td>0.0</td>\n",
       "      <td>0.286</td>\n",
       "      <td>...</td>\n",
       "      <td>0.007</td>\n",
       "      <td>54.422</td>\n",
       "      <td>18.6</td>\n",
       "      <td>2.581</td>\n",
       "      <td>1.337</td>\n",
       "      <td>1803.987</td>\n",
       "      <td>597.029</td>\n",
       "      <td>9.59</td>\n",
       "      <td>64.83</td>\n",
       "      <td>41128772.0</td>\n",
       "    </tr>\n",
       "    <tr>\n",
       "      <th>1</th>\n",
       "      <td>AFG</td>\n",
       "      <td>Asia</td>\n",
       "      <td>Afghanistan</td>\n",
       "      <td>2020-03-29</td>\n",
       "      <td>114.0</td>\n",
       "      <td>8.0</td>\n",
       "      <td>11.429</td>\n",
       "      <td>4.0</td>\n",
       "      <td>2.0</td>\n",
       "      <td>0.571</td>\n",
       "      <td>...</td>\n",
       "      <td>0.014</td>\n",
       "      <td>54.422</td>\n",
       "      <td>18.6</td>\n",
       "      <td>2.581</td>\n",
       "      <td>1.337</td>\n",
       "      <td>1803.987</td>\n",
       "      <td>597.029</td>\n",
       "      <td>9.59</td>\n",
       "      <td>64.83</td>\n",
       "      <td>41128772.0</td>\n",
       "    </tr>\n",
       "    <tr>\n",
       "      <th>2</th>\n",
       "      <td>AFG</td>\n",
       "      <td>Asia</td>\n",
       "      <td>Afghanistan</td>\n",
       "      <td>2020-03-30</td>\n",
       "      <td>114.0</td>\n",
       "      <td>0.0</td>\n",
       "      <td>10.571</td>\n",
       "      <td>4.0</td>\n",
       "      <td>0.0</td>\n",
       "      <td>0.429</td>\n",
       "      <td>...</td>\n",
       "      <td>0.010</td>\n",
       "      <td>54.422</td>\n",
       "      <td>18.6</td>\n",
       "      <td>2.581</td>\n",
       "      <td>1.337</td>\n",
       "      <td>1803.987</td>\n",
       "      <td>597.029</td>\n",
       "      <td>9.59</td>\n",
       "      <td>64.83</td>\n",
       "      <td>41128772.0</td>\n",
       "    </tr>\n",
       "    <tr>\n",
       "      <th>3</th>\n",
       "      <td>AFG</td>\n",
       "      <td>Asia</td>\n",
       "      <td>Afghanistan</td>\n",
       "      <td>2020-03-31</td>\n",
       "      <td>166.0</td>\n",
       "      <td>52.0</td>\n",
       "      <td>17.714</td>\n",
       "      <td>4.0</td>\n",
       "      <td>0.0</td>\n",
       "      <td>0.429</td>\n",
       "      <td>...</td>\n",
       "      <td>0.010</td>\n",
       "      <td>54.422</td>\n",
       "      <td>18.6</td>\n",
       "      <td>2.581</td>\n",
       "      <td>1.337</td>\n",
       "      <td>1803.987</td>\n",
       "      <td>597.029</td>\n",
       "      <td>9.59</td>\n",
       "      <td>64.83</td>\n",
       "      <td>41128772.0</td>\n",
       "    </tr>\n",
       "    <tr>\n",
       "      <th>4</th>\n",
       "      <td>AFG</td>\n",
       "      <td>Asia</td>\n",
       "      <td>Afghanistan</td>\n",
       "      <td>2020-04-01</td>\n",
       "      <td>192.0</td>\n",
       "      <td>26.0</td>\n",
       "      <td>16.857</td>\n",
       "      <td>4.0</td>\n",
       "      <td>0.0</td>\n",
       "      <td>0.429</td>\n",
       "      <td>...</td>\n",
       "      <td>0.010</td>\n",
       "      <td>54.422</td>\n",
       "      <td>18.6</td>\n",
       "      <td>2.581</td>\n",
       "      <td>1.337</td>\n",
       "      <td>1803.987</td>\n",
       "      <td>597.029</td>\n",
       "      <td>9.59</td>\n",
       "      <td>64.83</td>\n",
       "      <td>41128772.0</td>\n",
       "    </tr>\n",
       "    <tr>\n",
       "      <th>...</th>\n",
       "      <td>...</td>\n",
       "      <td>...</td>\n",
       "      <td>...</td>\n",
       "      <td>...</td>\n",
       "      <td>...</td>\n",
       "      <td>...</td>\n",
       "      <td>...</td>\n",
       "      <td>...</td>\n",
       "      <td>...</td>\n",
       "      <td>...</td>\n",
       "      <td>...</td>\n",
       "      <td>...</td>\n",
       "      <td>...</td>\n",
       "      <td>...</td>\n",
       "      <td>...</td>\n",
       "      <td>...</td>\n",
       "      <td>...</td>\n",
       "      <td>...</td>\n",
       "      <td>...</td>\n",
       "      <td>...</td>\n",
       "      <td>...</td>\n",
       "    </tr>\n",
       "    <tr>\n",
       "      <th>166615</th>\n",
       "      <td>ZWE</td>\n",
       "      <td>Africa</td>\n",
       "      <td>Zimbabwe</td>\n",
       "      <td>2022-12-02</td>\n",
       "      <td>259164.0</td>\n",
       "      <td>0.0</td>\n",
       "      <td>181.571</td>\n",
       "      <td>5620.0</td>\n",
       "      <td>0.0</td>\n",
       "      <td>2.000</td>\n",
       "      <td>...</td>\n",
       "      <td>0.123</td>\n",
       "      <td>42.729</td>\n",
       "      <td>19.6</td>\n",
       "      <td>2.822</td>\n",
       "      <td>1.882</td>\n",
       "      <td>1899.775</td>\n",
       "      <td>307.846</td>\n",
       "      <td>1.82</td>\n",
       "      <td>61.49</td>\n",
       "      <td>16320539.0</td>\n",
       "    </tr>\n",
       "    <tr>\n",
       "      <th>166616</th>\n",
       "      <td>ZWE</td>\n",
       "      <td>Africa</td>\n",
       "      <td>Zimbabwe</td>\n",
       "      <td>2022-12-03</td>\n",
       "      <td>259164.0</td>\n",
       "      <td>0.0</td>\n",
       "      <td>181.571</td>\n",
       "      <td>5620.0</td>\n",
       "      <td>0.0</td>\n",
       "      <td>2.000</td>\n",
       "      <td>...</td>\n",
       "      <td>0.123</td>\n",
       "      <td>42.729</td>\n",
       "      <td>19.6</td>\n",
       "      <td>2.822</td>\n",
       "      <td>1.882</td>\n",
       "      <td>1899.775</td>\n",
       "      <td>307.846</td>\n",
       "      <td>1.82</td>\n",
       "      <td>61.49</td>\n",
       "      <td>16320539.0</td>\n",
       "    </tr>\n",
       "    <tr>\n",
       "      <th>166617</th>\n",
       "      <td>ZWE</td>\n",
       "      <td>Africa</td>\n",
       "      <td>Zimbabwe</td>\n",
       "      <td>2022-12-04</td>\n",
       "      <td>259164.0</td>\n",
       "      <td>0.0</td>\n",
       "      <td>181.571</td>\n",
       "      <td>5620.0</td>\n",
       "      <td>0.0</td>\n",
       "      <td>2.000</td>\n",
       "      <td>...</td>\n",
       "      <td>0.123</td>\n",
       "      <td>42.729</td>\n",
       "      <td>19.6</td>\n",
       "      <td>2.822</td>\n",
       "      <td>1.882</td>\n",
       "      <td>1899.775</td>\n",
       "      <td>307.846</td>\n",
       "      <td>1.82</td>\n",
       "      <td>61.49</td>\n",
       "      <td>16320539.0</td>\n",
       "    </tr>\n",
       "    <tr>\n",
       "      <th>166618</th>\n",
       "      <td>ZWE</td>\n",
       "      <td>Africa</td>\n",
       "      <td>Zimbabwe</td>\n",
       "      <td>2022-12-05</td>\n",
       "      <td>259164.0</td>\n",
       "      <td>0.0</td>\n",
       "      <td>181.571</td>\n",
       "      <td>5620.0</td>\n",
       "      <td>0.0</td>\n",
       "      <td>2.000</td>\n",
       "      <td>...</td>\n",
       "      <td>0.123</td>\n",
       "      <td>42.729</td>\n",
       "      <td>19.6</td>\n",
       "      <td>2.822</td>\n",
       "      <td>1.882</td>\n",
       "      <td>1899.775</td>\n",
       "      <td>307.846</td>\n",
       "      <td>1.82</td>\n",
       "      <td>61.49</td>\n",
       "      <td>16320539.0</td>\n",
       "    </tr>\n",
       "    <tr>\n",
       "      <th>166619</th>\n",
       "      <td>ZWE</td>\n",
       "      <td>Africa</td>\n",
       "      <td>Zimbabwe</td>\n",
       "      <td>2022-12-06</td>\n",
       "      <td>259356.0</td>\n",
       "      <td>192.0</td>\n",
       "      <td>209.000</td>\n",
       "      <td>5622.0</td>\n",
       "      <td>2.0</td>\n",
       "      <td>2.286</td>\n",
       "      <td>...</td>\n",
       "      <td>0.140</td>\n",
       "      <td>42.729</td>\n",
       "      <td>19.6</td>\n",
       "      <td>2.822</td>\n",
       "      <td>1.882</td>\n",
       "      <td>1899.775</td>\n",
       "      <td>307.846</td>\n",
       "      <td>1.82</td>\n",
       "      <td>61.49</td>\n",
       "      <td>16320539.0</td>\n",
       "    </tr>\n",
       "  </tbody>\n",
       "</table>\n",
       "<p>166620 rows × 25 columns</p>\n",
       "</div>"
      ],
      "text/plain": [
       "       iso_code continent     location        date  total_cases  new_cases   \n",
       "index                                                                        \n",
       "0           AFG      Asia  Afghanistan  2020-03-28        106.0       15.0  \\\n",
       "1           AFG      Asia  Afghanistan  2020-03-29        114.0        8.0   \n",
       "2           AFG      Asia  Afghanistan  2020-03-30        114.0        0.0   \n",
       "3           AFG      Asia  Afghanistan  2020-03-31        166.0       52.0   \n",
       "4           AFG      Asia  Afghanistan  2020-04-01        192.0       26.0   \n",
       "...         ...       ...          ...         ...          ...        ...   \n",
       "166615      ZWE    Africa     Zimbabwe  2022-12-02     259164.0        0.0   \n",
       "166616      ZWE    Africa     Zimbabwe  2022-12-03     259164.0        0.0   \n",
       "166617      ZWE    Africa     Zimbabwe  2022-12-04     259164.0        0.0   \n",
       "166618      ZWE    Africa     Zimbabwe  2022-12-05     259164.0        0.0   \n",
       "166619      ZWE    Africa     Zimbabwe  2022-12-06     259356.0      192.0   \n",
       "\n",
       "        new_cases_smoothed  total_deaths  new_deaths  new_deaths_smoothed   \n",
       "index                                                                       \n",
       "0                   11.714           2.0         0.0                0.286  \\\n",
       "1                   11.429           4.0         2.0                0.571   \n",
       "2                   10.571           4.0         0.0                0.429   \n",
       "3                   17.714           4.0         0.0                0.429   \n",
       "4                   16.857           4.0         0.0                0.429   \n",
       "...                    ...           ...         ...                  ...   \n",
       "166615             181.571        5620.0         0.0                2.000   \n",
       "166616             181.571        5620.0         0.0                2.000   \n",
       "166617             181.571        5620.0         0.0                2.000   \n",
       "166618             181.571        5620.0         0.0                2.000   \n",
       "166619             209.000        5622.0         2.0                2.286   \n",
       "\n",
       "        ...  new_deaths_smoothed_per_million  population_density  median_age   \n",
       "index   ...                                                                    \n",
       "0       ...                            0.007              54.422        18.6  \\\n",
       "1       ...                            0.014              54.422        18.6   \n",
       "2       ...                            0.010              54.422        18.6   \n",
       "3       ...                            0.010              54.422        18.6   \n",
       "4       ...                            0.010              54.422        18.6   \n",
       "...     ...                              ...                 ...         ...   \n",
       "166615  ...                            0.123              42.729        19.6   \n",
       "166616  ...                            0.123              42.729        19.6   \n",
       "166617  ...                            0.123              42.729        19.6   \n",
       "166618  ...                            0.123              42.729        19.6   \n",
       "166619  ...                            0.140              42.729        19.6   \n",
       "\n",
       "        aged_65_older  aged_70_older  gdp_per_capita  cardiovasc_death_rate   \n",
       "index                                                                         \n",
       "0               2.581          1.337        1803.987                597.029  \\\n",
       "1               2.581          1.337        1803.987                597.029   \n",
       "2               2.581          1.337        1803.987                597.029   \n",
       "3               2.581          1.337        1803.987                597.029   \n",
       "4               2.581          1.337        1803.987                597.029   \n",
       "...               ...            ...             ...                    ...   \n",
       "166615          2.822          1.882        1899.775                307.846   \n",
       "166616          2.822          1.882        1899.775                307.846   \n",
       "166617          2.822          1.882        1899.775                307.846   \n",
       "166618          2.822          1.882        1899.775                307.846   \n",
       "166619          2.822          1.882        1899.775                307.846   \n",
       "\n",
       "        diabetes_prevalence  life_expectancy  population  \n",
       "index                                                     \n",
       "0                      9.59            64.83  41128772.0  \n",
       "1                      9.59            64.83  41128772.0  \n",
       "2                      9.59            64.83  41128772.0  \n",
       "3                      9.59            64.83  41128772.0  \n",
       "4                      9.59            64.83  41128772.0  \n",
       "...                     ...              ...         ...  \n",
       "166615                 1.82            61.49  16320539.0  \n",
       "166616                 1.82            61.49  16320539.0  \n",
       "166617                 1.82            61.49  16320539.0  \n",
       "166618                 1.82            61.49  16320539.0  \n",
       "166619                 1.82            61.49  16320539.0  \n",
       "\n",
       "[166620 rows x 25 columns]"
      ]
     },
     "execution_count": 42,
     "metadata": {},
     "output_type": "execute_result"
    }
   ],
   "source": [
    "# import pandas and read `covid.csv` file\n",
    "df = pd.read_csv(\"covid.csv\", index_col=0)\n",
    "df"
   ]
  },
  {
   "cell_type": "markdown",
   "metadata": {},
   "source": [
    "### Activity 2: Select the correct shape"
   ]
  },
  {
   "cell_type": "code",
   "execution_count": 22,
   "metadata": {},
   "outputs": [
    {
     "data": {
      "text/plain": [
       "(166620, 25)"
      ]
     },
     "execution_count": 22,
     "metadata": {},
     "output_type": "execute_result"
    }
   ],
   "source": [
    "# Get the shape of the df dataframe\n",
    "df.shape"
   ]
  },
  {
   "cell_type": "markdown",
   "metadata": {},
   "source": [
    "### Activity 3: Select the correct datatype"
   ]
  },
  {
   "cell_type": "code",
   "execution_count": 20,
   "metadata": {},
   "outputs": [
    {
     "name": "stdout",
     "output_type": "stream",
     "text": [
      "<class 'pandas.core.frame.DataFrame'>\n",
      "Index: 166620 entries, 0 to 166619\n",
      "Data columns (total 25 columns):\n",
      " #   Column                           Non-Null Count   Dtype  \n",
      "---  ------                           --------------   -----  \n",
      " 0   iso_code                         166620 non-null  object \n",
      " 1   continent                        166620 non-null  object \n",
      " 2   location                         166620 non-null  object \n",
      " 3   date                             166620 non-null  object \n",
      " 4   total_cases                      166620 non-null  float64\n",
      " 5   new_cases                        166620 non-null  float64\n",
      " 6   new_cases_smoothed               166620 non-null  float64\n",
      " 7   total_deaths                     166620 non-null  float64\n",
      " 8   new_deaths                       166620 non-null  float64\n",
      " 9   new_deaths_smoothed              166620 non-null  float64\n",
      " 10  total_cases_per_million          166620 non-null  float64\n",
      " 11  new_cases_per_million            166620 non-null  float64\n",
      " 12  new_cases_smoothed_per_million   166620 non-null  float64\n",
      " 13  total_deaths_per_million         166620 non-null  float64\n",
      " 14  new_deaths_per_million           166620 non-null  float64\n",
      " 15  new_deaths_smoothed_per_million  166620 non-null  float64\n",
      " 16  population_density               166620 non-null  float64\n",
      " 17  median_age                       166620 non-null  float64\n",
      " 18  aged_65_older                    166620 non-null  float64\n",
      " 19  aged_70_older                    166620 non-null  float64\n",
      " 20  gdp_per_capita                   166620 non-null  float64\n",
      " 21  cardiovasc_death_rate            166620 non-null  float64\n",
      " 22  diabetes_prevalence              166620 non-null  float64\n",
      " 23  life_expectancy                  166620 non-null  float64\n",
      " 24  population                       166620 non-null  float64\n",
      "dtypes: float64(21), object(4)\n",
      "memory usage: 33.1+ MB\n"
     ]
    }
   ],
   "source": [
    "# find the data types of the columns\n",
    "df.info()"
   ]
  },
  {
   "cell_type": "markdown",
   "metadata": {},
   "source": [
    "### Activity 4: Find the minimum and maximum values"
   ]
  },
  {
   "cell_type": "code",
   "execution_count": 19,
   "metadata": {},
   "outputs": [
    {
     "data": {
      "text/plain": [
       "count    1.666200e+05\n",
       "mean     1.521780e+06\n",
       "std      5.915449e+06\n",
       "min      1.000000e+00\n",
       "25%      1.359875e+04\n",
       "50%      1.118450e+05\n",
       "75%      6.543800e+05\n",
       "max      9.947020e+07\n",
       "Name: total_cases, dtype: float64"
      ]
     },
     "execution_count": 19,
     "metadata": {},
     "output_type": "execute_result"
    }
   ],
   "source": [
    "# find the minimum and maximum values of the columns 'total_cases'.\n",
    "df[\"total_cases\"].describe()"
   ]
  },
  {
   "cell_type": "markdown",
   "metadata": {
    "tags": []
   },
   "source": [
    "### Activity 5: Total cases in the COVID-19 dataset"
   ]
  },
  {
   "cell_type": "code",
   "execution_count": 17,
   "metadata": {},
   "outputs": [
    {
     "data": {
      "text/plain": [
       "253558957405.0"
      ]
     },
     "execution_count": 17,
     "metadata": {},
     "output_type": "execute_result"
    }
   ],
   "source": [
    "# find the total cases of all the countries.\n",
    "df[\"total_cases\"].sum()"
   ]
  },
  {
   "cell_type": "markdown",
   "metadata": {},
   "source": [
    "### Activity 6: Find the mean cases per day"
   ]
  },
  {
   "cell_type": "code",
   "execution_count": 18,
   "metadata": {},
   "outputs": [
    {
     "data": {
      "text/plain": [
       "3788.699153763054"
      ]
     },
     "execution_count": 18,
     "metadata": {},
     "output_type": "execute_result"
    }
   ],
   "source": [
    "# find the mean of new cases.\n",
    "df[\"new_cases\"].mean()"
   ]
  },
  {
   "cell_type": "markdown",
   "metadata": {},
   "source": [
    "### Activity 7: Select values from a dataframe using indexing"
   ]
  },
  {
   "cell_type": "code",
   "execution_count": 44,
   "metadata": {},
   "outputs": [],
   "source": [
    "# Selecting values from a Dataframe using indexing.\n",
    "df1 = df[[\"continent\", \"location\"]]"
   ]
  },
  {
   "cell_type": "markdown",
   "metadata": {},
   "source": [
    "### Activity 8: Drop columns from the dataframe"
   ]
  },
  {
   "cell_type": "code",
   "execution_count": 45,
   "metadata": {},
   "outputs": [],
   "source": [
    "# Drop below columns from the Dataframe\n",
    "# ['iso_code', 'new_cases_smoothed', 'new_deaths_smoothed', 'total_cases_per_million', 'new_cases_per_million', 'new_cases_smoothed_per_million', 'total_deaths_per_million', 'new_deaths_per_million', 'new_deaths_smoothed_per_million']\n",
    "df.drop(columns=['iso_code', 'new_cases_smoothed', 'new_deaths_smoothed'\n",
    "                , 'total_cases_per_million', 'new_cases_per_million'\n",
    "                , 'new_cases_smoothed_per_million', 'total_deaths_per_million'\n",
    "                , 'new_deaths_per_million', 'new_deaths_smoothed_per_million']\n",
    "        , inplace=True)"
   ]
  },
  {
   "cell_type": "markdown",
   "metadata": {},
   "source": [
    "### Activity 9: Add more rows to a dataframe"
   ]
  },
  {
   "cell_type": "code",
   "execution_count": 46,
   "metadata": {},
   "outputs": [],
   "source": [
    "#  Adding More rows to a Dataframe.\n",
    "new_data = {'continent': ['Africa'], 'location': ['Zimbabwe'], 'date': ['2022-12-07'], 'total_cases': [259356.0], 'new_cases': [192.0], 'total_deaths': [5622.0], 'new_deaths': [2.0], 'population_density': [42.729], 'median_age': [19.6], 'aged_65_older': [2.822], 'aged_70_older': [1.845], 'gdp_per_capita': [1899.767], 'cardiovasc_death_rate': [307.846], 'diabetes_prevalence': [1.85], 'life_expectancy': [61.55], 'population': [16320539.0]}\n",
    "new_df = pd.DataFrame.from_dict(new_data)\n",
    "df = pd.concat([df, new_df], ignore_index=True)\n"
   ]
  },
  {
   "cell_type": "markdown",
   "metadata": {},
   "source": [
    "### Activity 10: Update a specific cell value in the COVID-19 dataset"
   ]
  },
  {
   "cell_type": "code",
   "execution_count": 48,
   "metadata": {},
   "outputs": [],
   "source": [
    "# Updating the value of a specific cell in the COVID-19 dataset.\n",
    "df.loc[166620, [\"total_cases\"]] = 259357.0"
   ]
  },
  {
   "cell_type": "markdown",
   "metadata": {},
   "source": [
    "### Activity 11: Update a multiple cell value in the COVID-19 dataset"
   ]
  },
  {
   "cell_type": "code",
   "execution_count": 50,
   "metadata": {},
   "outputs": [],
   "source": [
    "# Updating values in a specific column of the COVID-19 dataset.\n",
    "df.loc[[166618, 166619 ] , [\"total_cases\"]] = 259357, 259358.0"
   ]
  },
  {
   "cell_type": "markdown",
   "metadata": {},
   "source": [
    "### Activity 12: Remove rows from the dataframe"
   ]
  },
  {
   "cell_type": "code",
   "execution_count": 56,
   "metadata": {},
   "outputs": [],
   "source": [
    "# Removing Rows from a DataFrame\n",
    "df.drop([166620, 166619], inplace = True)"
   ]
  },
  {
   "cell_type": "markdown",
   "metadata": {},
   "source": [
    "### Activity 13: Use `.loc` to select rows based on a condition"
   ]
  },
  {
   "cell_type": "code",
   "execution_count": 58,
   "metadata": {},
   "outputs": [],
   "source": [
    "# Using .loc to select rows based on a condition.\n",
    "df_1m = df.loc[df[\"total_cases\"] > 1000000]"
   ]
  },
  {
   "cell_type": "markdown",
   "metadata": {},
   "source": [
    "### Activity 14: Select specific columns and rows"
   ]
  },
  {
   "cell_type": "code",
   "execution_count": 82,
   "metadata": {},
   "outputs": [
    {
     "data": {
      "text/html": [
       "<div>\n",
       "<style scoped>\n",
       "    .dataframe tbody tr th:only-of-type {\n",
       "        vertical-align: middle;\n",
       "    }\n",
       "\n",
       "    .dataframe tbody tr th {\n",
       "        vertical-align: top;\n",
       "    }\n",
       "\n",
       "    .dataframe thead th {\n",
       "        text-align: right;\n",
       "    }\n",
       "</style>\n",
       "<table border=\"1\" class=\"dataframe\">\n",
       "  <thead>\n",
       "    <tr style=\"text-align: right;\">\n",
       "      <th></th>\n",
       "      <th>total_cases</th>\n",
       "      <th>total_deaths</th>\n",
       "    </tr>\n",
       "  </thead>\n",
       "  <tbody>\n",
       "    <tr>\n",
       "      <th>5168</th>\n",
       "      <td>1002662.0</td>\n",
       "      <td>26716.0</td>\n",
       "    </tr>\n",
       "    <tr>\n",
       "      <th>5172</th>\n",
       "      <td>1069368.0</td>\n",
       "      <td>28338.0</td>\n",
       "    </tr>\n",
       "    <tr>\n",
       "      <th>163703</th>\n",
       "      <td>11520445.0</td>\n",
       "      <td>43178.0</td>\n",
       "    </tr>\n",
       "  </tbody>\n",
       "</table>\n",
       "</div>"
      ],
      "text/plain": [
       "        total_cases  total_deaths\n",
       "5168      1002662.0       26716.0\n",
       "5172      1069368.0       28338.0\n",
       "163703   11520445.0       43178.0"
      ]
     },
     "execution_count": 82,
     "metadata": {},
     "output_type": "execute_result"
    }
   ],
   "source": [
    "# Using .iloc to select specific columns and rows.\n",
    "df_cases_death = df.loc[[5168, 5172, 163703], [\"total_cases\", \"total_deaths\"]]\n",
    "df_cases_death"
   ]
  },
  {
   "cell_type": "code",
   "execution_count": 60,
   "metadata": {},
   "outputs": [
    {
     "data": {
      "text/plain": [
       "RangeIndex(start=0, stop=166619, step=1)"
      ]
     },
     "execution_count": 60,
     "metadata": {},
     "output_type": "execute_result"
    }
   ],
   "source": [
    "df.index"
   ]
  },
  {
   "cell_type": "markdown",
   "metadata": {},
   "source": [
    "### Activity 15: Sort COVID-19 data in ascending order"
   ]
  },
  {
   "cell_type": "code",
   "execution_count": 86,
   "metadata": {},
   "outputs": [],
   "source": [
    "# Sorting COVID-19 data in ascending order.\n",
    "df_sorted = df.sort_values(by=\"total_cases\")"
   ]
  },
  {
   "cell_type": "markdown",
   "metadata": {},
   "source": [
    "### Activity 16: Sort COVID-19 data in descending order"
   ]
  },
  {
   "cell_type": "code",
   "execution_count": 88,
   "metadata": {},
   "outputs": [],
   "source": [
    "# Sorting COVID-19 data in descending order.\n",
    "df_sorted_desc = df.sort_values(by=\"total_cases\", ascending=False)"
   ]
  },
  {
   "cell_type": "markdown",
   "metadata": {},
   "source": [
    "### Activity 17: Sort the COVID-19 data by multiple columns"
   ]
  },
  {
   "cell_type": "code",
   "execution_count": 90,
   "metadata": {},
   "outputs": [],
   "source": [
    "# Sorting COVID-19 data by multiple columns.\n",
    "df_sorted_multi = df.sort_values(by=[\"total_cases\", \"total_deaths\"], ascending=[False, True])"
   ]
  },
  {
   "cell_type": "markdown",
   "metadata": {},
   "source": [
    "### Activity 18: Add new columns using arithmetic operations"
   ]
  },
  {
   "cell_type": "code",
   "execution_count": 94,
   "metadata": {},
   "outputs": [],
   "source": [
    "# Adding New Columns with Arithmetic Operations.\n",
    "df[\"total_cases_population_density\"] = df[\"total_cases\"]/df[\"population\"]"
   ]
  },
  {
   "cell_type": "markdown",
   "metadata": {},
   "source": [
    "### Activity 19: Using vectorized operations to update a column"
   ]
  },
  {
   "cell_type": "code",
   "execution_count": 96,
   "metadata": {},
   "outputs": [],
   "source": [
    "# Using Vectorized Operations to Update a Column.\n",
    "df[\"total_cases_population_density\"] *= 1000"
   ]
  },
  {
   "cell_type": "markdown",
   "metadata": {},
   "source": [
    "### Activity 20: Remove columns using `del` statement"
   ]
  },
  {
   "cell_type": "code",
   "execution_count": 98,
   "metadata": {},
   "outputs": [],
   "source": [
    "# Removing columns with del statement.\n",
    "del df[\"total_cases_population_density\"]"
   ]
  },
  {
   "cell_type": "markdown",
   "metadata": {},
   "source": [
    "### Activity 21: Rename columns"
   ]
  },
  {
   "cell_type": "code",
   "execution_count": 106,
   "metadata": {},
   "outputs": [],
   "source": [
    "# Rename the columns.\n",
    "df.rename(columns={\"total_cases\":\"Total Cases\", \"total_deaths\": \"Total Deaths\"}, inplace = True)"
   ]
  },
  {
   "cell_type": "markdown",
   "metadata": {},
   "source": [
    "### Activity 22: Filter COVID-19 data using boolean indexing"
   ]
  },
  {
   "cell_type": "code",
   "execution_count": 112,
   "metadata": {},
   "outputs": [],
   "source": [
    "# Filtering COVID-19 data using boolean indexing.\n",
    "df_india_china = df.loc[((df[\"location\"] == \"India\") | (df[\"location\"] == \"China\"))]\n",
    "df_range = df.loc[(df[\"new_cases\"] > 100000 )&(df[\"new_cases\"] < 200000 )]\n",
    "df_greater_new_cases = df.loc[df[\"new_cases\"] > 10000]"
   ]
  },
  {
   "cell_type": "code",
   "execution_count": 108,
   "metadata": {},
   "outputs": [
    {
     "data": {
      "text/html": [
       "<div>\n",
       "<style scoped>\n",
       "    .dataframe tbody tr th:only-of-type {\n",
       "        vertical-align: middle;\n",
       "    }\n",
       "\n",
       "    .dataframe tbody tr th {\n",
       "        vertical-align: top;\n",
       "    }\n",
       "\n",
       "    .dataframe thead th {\n",
       "        text-align: right;\n",
       "    }\n",
       "</style>\n",
       "<table border=\"1\" class=\"dataframe\">\n",
       "  <thead>\n",
       "    <tr style=\"text-align: right;\">\n",
       "      <th></th>\n",
       "      <th>continent</th>\n",
       "      <th>location</th>\n",
       "      <th>date</th>\n",
       "      <th>Total Cases</th>\n",
       "      <th>new_cases</th>\n",
       "      <th>Total Deaths</th>\n",
       "      <th>new_deaths</th>\n",
       "      <th>population_density</th>\n",
       "      <th>median_age</th>\n",
       "      <th>aged_65_older</th>\n",
       "      <th>aged_70_older</th>\n",
       "      <th>gdp_per_capita</th>\n",
       "      <th>cardiovasc_death_rate</th>\n",
       "      <th>diabetes_prevalence</th>\n",
       "      <th>life_expectancy</th>\n",
       "      <th>population</th>\n",
       "    </tr>\n",
       "  </thead>\n",
       "  <tbody>\n",
       "    <tr>\n",
       "      <th>0</th>\n",
       "      <td>Asia</td>\n",
       "      <td>Afghanistan</td>\n",
       "      <td>2020-03-28</td>\n",
       "      <td>106.0</td>\n",
       "      <td>15.0</td>\n",
       "      <td>2.0</td>\n",
       "      <td>0.0</td>\n",
       "      <td>54.422</td>\n",
       "      <td>18.6</td>\n",
       "      <td>2.581</td>\n",
       "      <td>1.337</td>\n",
       "      <td>1803.987</td>\n",
       "      <td>597.029</td>\n",
       "      <td>9.59</td>\n",
       "      <td>64.83</td>\n",
       "      <td>41128772.0</td>\n",
       "    </tr>\n",
       "    <tr>\n",
       "      <th>1</th>\n",
       "      <td>Asia</td>\n",
       "      <td>Afghanistan</td>\n",
       "      <td>2020-03-29</td>\n",
       "      <td>114.0</td>\n",
       "      <td>8.0</td>\n",
       "      <td>4.0</td>\n",
       "      <td>2.0</td>\n",
       "      <td>54.422</td>\n",
       "      <td>18.6</td>\n",
       "      <td>2.581</td>\n",
       "      <td>1.337</td>\n",
       "      <td>1803.987</td>\n",
       "      <td>597.029</td>\n",
       "      <td>9.59</td>\n",
       "      <td>64.83</td>\n",
       "      <td>41128772.0</td>\n",
       "    </tr>\n",
       "    <tr>\n",
       "      <th>2</th>\n",
       "      <td>Asia</td>\n",
       "      <td>Afghanistan</td>\n",
       "      <td>2020-03-30</td>\n",
       "      <td>114.0</td>\n",
       "      <td>0.0</td>\n",
       "      <td>4.0</td>\n",
       "      <td>0.0</td>\n",
       "      <td>54.422</td>\n",
       "      <td>18.6</td>\n",
       "      <td>2.581</td>\n",
       "      <td>1.337</td>\n",
       "      <td>1803.987</td>\n",
       "      <td>597.029</td>\n",
       "      <td>9.59</td>\n",
       "      <td>64.83</td>\n",
       "      <td>41128772.0</td>\n",
       "    </tr>\n",
       "    <tr>\n",
       "      <th>3</th>\n",
       "      <td>Asia</td>\n",
       "      <td>Afghanistan</td>\n",
       "      <td>2020-03-31</td>\n",
       "      <td>166.0</td>\n",
       "      <td>52.0</td>\n",
       "      <td>4.0</td>\n",
       "      <td>0.0</td>\n",
       "      <td>54.422</td>\n",
       "      <td>18.6</td>\n",
       "      <td>2.581</td>\n",
       "      <td>1.337</td>\n",
       "      <td>1803.987</td>\n",
       "      <td>597.029</td>\n",
       "      <td>9.59</td>\n",
       "      <td>64.83</td>\n",
       "      <td>41128772.0</td>\n",
       "    </tr>\n",
       "    <tr>\n",
       "      <th>4</th>\n",
       "      <td>Asia</td>\n",
       "      <td>Afghanistan</td>\n",
       "      <td>2020-04-01</td>\n",
       "      <td>192.0</td>\n",
       "      <td>26.0</td>\n",
       "      <td>4.0</td>\n",
       "      <td>0.0</td>\n",
       "      <td>54.422</td>\n",
       "      <td>18.6</td>\n",
       "      <td>2.581</td>\n",
       "      <td>1.337</td>\n",
       "      <td>1803.987</td>\n",
       "      <td>597.029</td>\n",
       "      <td>9.59</td>\n",
       "      <td>64.83</td>\n",
       "      <td>41128772.0</td>\n",
       "    </tr>\n",
       "    <tr>\n",
       "      <th>...</th>\n",
       "      <td>...</td>\n",
       "      <td>...</td>\n",
       "      <td>...</td>\n",
       "      <td>...</td>\n",
       "      <td>...</td>\n",
       "      <td>...</td>\n",
       "      <td>...</td>\n",
       "      <td>...</td>\n",
       "      <td>...</td>\n",
       "      <td>...</td>\n",
       "      <td>...</td>\n",
       "      <td>...</td>\n",
       "      <td>...</td>\n",
       "      <td>...</td>\n",
       "      <td>...</td>\n",
       "      <td>...</td>\n",
       "    </tr>\n",
       "    <tr>\n",
       "      <th>166614</th>\n",
       "      <td>Africa</td>\n",
       "      <td>Zimbabwe</td>\n",
       "      <td>2022-12-01</td>\n",
       "      <td>259164.0</td>\n",
       "      <td>0.0</td>\n",
       "      <td>5620.0</td>\n",
       "      <td>0.0</td>\n",
       "      <td>42.729</td>\n",
       "      <td>19.6</td>\n",
       "      <td>2.822</td>\n",
       "      <td>1.882</td>\n",
       "      <td>1899.775</td>\n",
       "      <td>307.846</td>\n",
       "      <td>1.82</td>\n",
       "      <td>61.49</td>\n",
       "      <td>16320539.0</td>\n",
       "    </tr>\n",
       "    <tr>\n",
       "      <th>166615</th>\n",
       "      <td>Africa</td>\n",
       "      <td>Zimbabwe</td>\n",
       "      <td>2022-12-02</td>\n",
       "      <td>259164.0</td>\n",
       "      <td>0.0</td>\n",
       "      <td>5620.0</td>\n",
       "      <td>0.0</td>\n",
       "      <td>42.729</td>\n",
       "      <td>19.6</td>\n",
       "      <td>2.822</td>\n",
       "      <td>1.882</td>\n",
       "      <td>1899.775</td>\n",
       "      <td>307.846</td>\n",
       "      <td>1.82</td>\n",
       "      <td>61.49</td>\n",
       "      <td>16320539.0</td>\n",
       "    </tr>\n",
       "    <tr>\n",
       "      <th>166616</th>\n",
       "      <td>Africa</td>\n",
       "      <td>Zimbabwe</td>\n",
       "      <td>2022-12-03</td>\n",
       "      <td>259164.0</td>\n",
       "      <td>0.0</td>\n",
       "      <td>5620.0</td>\n",
       "      <td>0.0</td>\n",
       "      <td>42.729</td>\n",
       "      <td>19.6</td>\n",
       "      <td>2.822</td>\n",
       "      <td>1.882</td>\n",
       "      <td>1899.775</td>\n",
       "      <td>307.846</td>\n",
       "      <td>1.82</td>\n",
       "      <td>61.49</td>\n",
       "      <td>16320539.0</td>\n",
       "    </tr>\n",
       "    <tr>\n",
       "      <th>166617</th>\n",
       "      <td>Africa</td>\n",
       "      <td>Zimbabwe</td>\n",
       "      <td>2022-12-04</td>\n",
       "      <td>259164.0</td>\n",
       "      <td>0.0</td>\n",
       "      <td>5620.0</td>\n",
       "      <td>0.0</td>\n",
       "      <td>42.729</td>\n",
       "      <td>19.6</td>\n",
       "      <td>2.822</td>\n",
       "      <td>1.882</td>\n",
       "      <td>1899.775</td>\n",
       "      <td>307.846</td>\n",
       "      <td>1.82</td>\n",
       "      <td>61.49</td>\n",
       "      <td>16320539.0</td>\n",
       "    </tr>\n",
       "    <tr>\n",
       "      <th>166618</th>\n",
       "      <td>Africa</td>\n",
       "      <td>Zimbabwe</td>\n",
       "      <td>2022-12-05</td>\n",
       "      <td>259357.0</td>\n",
       "      <td>0.0</td>\n",
       "      <td>5620.0</td>\n",
       "      <td>0.0</td>\n",
       "      <td>42.729</td>\n",
       "      <td>19.6</td>\n",
       "      <td>2.822</td>\n",
       "      <td>1.882</td>\n",
       "      <td>1899.775</td>\n",
       "      <td>307.846</td>\n",
       "      <td>1.82</td>\n",
       "      <td>61.49</td>\n",
       "      <td>16320539.0</td>\n",
       "    </tr>\n",
       "  </tbody>\n",
       "</table>\n",
       "<p>166619 rows × 16 columns</p>\n",
       "</div>"
      ],
      "text/plain": [
       "       continent     location        date  Total Cases  new_cases   \n",
       "0           Asia  Afghanistan  2020-03-28        106.0       15.0  \\\n",
       "1           Asia  Afghanistan  2020-03-29        114.0        8.0   \n",
       "2           Asia  Afghanistan  2020-03-30        114.0        0.0   \n",
       "3           Asia  Afghanistan  2020-03-31        166.0       52.0   \n",
       "4           Asia  Afghanistan  2020-04-01        192.0       26.0   \n",
       "...          ...          ...         ...          ...        ...   \n",
       "166614    Africa     Zimbabwe  2022-12-01     259164.0        0.0   \n",
       "166615    Africa     Zimbabwe  2022-12-02     259164.0        0.0   \n",
       "166616    Africa     Zimbabwe  2022-12-03     259164.0        0.0   \n",
       "166617    Africa     Zimbabwe  2022-12-04     259164.0        0.0   \n",
       "166618    Africa     Zimbabwe  2022-12-05     259357.0        0.0   \n",
       "\n",
       "        Total Deaths  new_deaths  population_density  median_age   \n",
       "0                2.0         0.0              54.422        18.6  \\\n",
       "1                4.0         2.0              54.422        18.6   \n",
       "2                4.0         0.0              54.422        18.6   \n",
       "3                4.0         0.0              54.422        18.6   \n",
       "4                4.0         0.0              54.422        18.6   \n",
       "...              ...         ...                 ...         ...   \n",
       "166614        5620.0         0.0              42.729        19.6   \n",
       "166615        5620.0         0.0              42.729        19.6   \n",
       "166616        5620.0         0.0              42.729        19.6   \n",
       "166617        5620.0         0.0              42.729        19.6   \n",
       "166618        5620.0         0.0              42.729        19.6   \n",
       "\n",
       "        aged_65_older  aged_70_older  gdp_per_capita  cardiovasc_death_rate   \n",
       "0               2.581          1.337        1803.987                597.029  \\\n",
       "1               2.581          1.337        1803.987                597.029   \n",
       "2               2.581          1.337        1803.987                597.029   \n",
       "3               2.581          1.337        1803.987                597.029   \n",
       "4               2.581          1.337        1803.987                597.029   \n",
       "...               ...            ...             ...                    ...   \n",
       "166614          2.822          1.882        1899.775                307.846   \n",
       "166615          2.822          1.882        1899.775                307.846   \n",
       "166616          2.822          1.882        1899.775                307.846   \n",
       "166617          2.822          1.882        1899.775                307.846   \n",
       "166618          2.822          1.882        1899.775                307.846   \n",
       "\n",
       "        diabetes_prevalence  life_expectancy  population  \n",
       "0                      9.59            64.83  41128772.0  \n",
       "1                      9.59            64.83  41128772.0  \n",
       "2                      9.59            64.83  41128772.0  \n",
       "3                      9.59            64.83  41128772.0  \n",
       "4                      9.59            64.83  41128772.0  \n",
       "...                     ...              ...         ...  \n",
       "166614                 1.82            61.49  16320539.0  \n",
       "166615                 1.82            61.49  16320539.0  \n",
       "166616                 1.82            61.49  16320539.0  \n",
       "166617                 1.82            61.49  16320539.0  \n",
       "166618                 1.82            61.49  16320539.0  \n",
       "\n",
       "[166619 rows x 16 columns]"
      ]
     },
     "execution_count": 108,
     "metadata": {},
     "output_type": "execute_result"
    }
   ],
   "source": [
    "df"
   ]
  },
  {
   "cell_type": "markdown",
   "metadata": {},
   "source": [
    "# End!"
   ]
  }
 ],
 "metadata": {
  "kernelspec": {
   "display_name": "Python 3 (ipykernel)",
   "language": "python",
   "name": "python3"
  },
  "language_info": {
   "codemirror_mode": {
    "name": "ipython",
    "version": 3
   },
   "file_extension": ".py",
   "mimetype": "text/x-python",
   "name": "python",
   "nbconvert_exporter": "python",
   "pygments_lexer": "ipython3",
   "version": "3.11.0"
  },
  "vscode": {
   "interpreter": {
    "hash": "39dbd8e540d85df57fe166da015e7d68971feed3ec38c066012cadea070633bc"
   }
  }
 },
 "nbformat": 4,
 "nbformat_minor": 4
}