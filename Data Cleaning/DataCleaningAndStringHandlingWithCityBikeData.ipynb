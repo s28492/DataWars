{
 "cells": [
  {
   "cell_type": "code",
   "execution_count": 1,
   "id": "9b6c5852",
   "metadata": {},
   "outputs": [],
   "source": [
    "import pandas as pd"
   ]
  },
  {
   "cell_type": "code",
   "execution_count": 2,
   "id": "4bf85510",
   "metadata": {},
   "outputs": [
    {
     "data": {
      "text/html": [
       "<div>\n",
       "<style scoped>\n",
       "    .dataframe tbody tr th:only-of-type {\n",
       "        vertical-align: middle;\n",
       "    }\n",
       "\n",
       "    .dataframe tbody tr th {\n",
       "        vertical-align: top;\n",
       "    }\n",
       "\n",
       "    .dataframe thead th {\n",
       "        text-align: right;\n",
       "    }\n",
       "</style>\n",
       "<table border=\"1\" class=\"dataframe\">\n",
       "  <thead>\n",
       "    <tr style=\"text-align: right;\">\n",
       "      <th></th>\n",
       "      <th>first name</th>\n",
       "      <th>last name</th>\n",
       "      <th>tripduration</th>\n",
       "      <th>start station id</th>\n",
       "      <th>start station name</th>\n",
       "      <th>end station id</th>\n",
       "      <th>end station name</th>\n",
       "      <th>bikeid</th>\n",
       "      <th>usertype</th>\n",
       "      <th>birth year</th>\n",
       "      <th>gender</th>\n",
       "      <th>emails</th>\n",
       "      <th>pin</th>\n",
       "    </tr>\n",
       "  </thead>\n",
       "  <tbody>\n",
       "    <tr>\n",
       "      <th>0</th>\n",
       "      <td>misty</td>\n",
       "      <td>HarRISs</td>\n",
       "      <td>3117</td>\n",
       "      <td>301</td>\n",
       "      <td>E 2 St &amp; Avenue B</td>\n",
       "      <td>301</td>\n",
       "      <td>E 2 St &amp; Avenue B</td>\n",
       "      <td>18070</td>\n",
       "      <td>Subscriber</td>\n",
       "      <td>1986.0</td>\n",
       "      <td>1</td>\n",
       "      <td>osborneangela@example.com</td>\n",
       "      <td>JPCeiknPMw</td>\n",
       "    </tr>\n",
       "    <tr>\n",
       "      <th>1</th>\n",
       "      <td>Alexis</td>\n",
       "      <td>Thompson</td>\n",
       "      <td>690</td>\n",
       "      <td>301</td>\n",
       "      <td>E 2 St &amp; Avenue B</td>\n",
       "      <td>349</td>\n",
       "      <td>Rivington St &amp; Ridge St</td>\n",
       "      <td>19699</td>\n",
       "      <td>Subscriber</td>\n",
       "      <td>1985.0</td>\n",
       "      <td>1</td>\n",
       "      <td>sbutler@example.net</td>\n",
       "      <td>PSxNqDPDWe</td>\n",
       "    </tr>\n",
       "    <tr>\n",
       "      <th>2</th>\n",
       "      <td>Jodi</td>\n",
       "      <td>Sanders</td>\n",
       "      <td>727</td>\n",
       "      <td>301</td>\n",
       "      <td>E 2 St &amp; Avenue B</td>\n",
       "      <td>2010</td>\n",
       "      <td>Grand St &amp; Greene St</td>\n",
       "      <td>20953</td>\n",
       "      <td>Subscriber</td>\n",
       "      <td>1982.0</td>\n",
       "      <td>1</td>\n",
       "      <td>egarcia@example.net</td>\n",
       "      <td>pxTMwm166p</td>\n",
       "    </tr>\n",
       "    <tr>\n",
       "      <th>3</th>\n",
       "      <td>matrick</td>\n",
       "      <td>Evans</td>\n",
       "      <td>698</td>\n",
       "      <td>301</td>\n",
       "      <td>E 2 St &amp; Avenue B</td>\n",
       "      <td>527</td>\n",
       "      <td>E 33 St &amp; 2 Ave</td>\n",
       "      <td>23566</td>\n",
       "      <td>Subscriber</td>\n",
       "      <td>1976.0</td>\n",
       "      <td>1</td>\n",
       "      <td>zmoore@example.com</td>\n",
       "      <td>w5dktoeXrq</td>\n",
       "    </tr>\n",
       "    <tr>\n",
       "      <th>4</th>\n",
       "      <td>Amanda</td>\n",
       "      <td>DaniEEls</td>\n",
       "      <td>351</td>\n",
       "      <td>301</td>\n",
       "      <td>E 2 St &amp; Avenue B</td>\n",
       "      <td>250</td>\n",
       "      <td>Lafayette St &amp; Jersey St</td>\n",
       "      <td>17545</td>\n",
       "      <td>Subscriber</td>\n",
       "      <td>1959.0</td>\n",
       "      <td>1</td>\n",
       "      <td>derrick11@example.com</td>\n",
       "      <td>8hHtmBR0Tt</td>\n",
       "    </tr>\n",
       "    <tr>\n",
       "      <th>...</th>\n",
       "      <td>...</td>\n",
       "      <td>...</td>\n",
       "      <td>...</td>\n",
       "      <td>...</td>\n",
       "      <td>...</td>\n",
       "      <td>...</td>\n",
       "      <td>...</td>\n",
       "      <td>...</td>\n",
       "      <td>...</td>\n",
       "      <td>...</td>\n",
       "      <td>...</td>\n",
       "      <td>...</td>\n",
       "      <td>...</td>\n",
       "    </tr>\n",
       "    <tr>\n",
       "      <th>4207</th>\n",
       "      <td>Joshua</td>\n",
       "      <td>Donaldson</td>\n",
       "      <td>1225</td>\n",
       "      <td>301</td>\n",
       "      <td>E 2 St &amp; Avenue B</td>\n",
       "      <td>442</td>\n",
       "      <td>W 27 St &amp; 7 Ave</td>\n",
       "      <td>15859</td>\n",
       "      <td>Customer</td>\n",
       "      <td>NaN</td>\n",
       "      <td>0</td>\n",
       "      <td>kelly26@example.net</td>\n",
       "      <td>NaaPhq7R38</td>\n",
       "    </tr>\n",
       "    <tr>\n",
       "      <th>4208</th>\n",
       "      <td>Deanna</td>\n",
       "      <td>Nelson</td>\n",
       "      <td>939</td>\n",
       "      <td>301</td>\n",
       "      <td>E 2 St &amp; Avenue B</td>\n",
       "      <td>251</td>\n",
       "      <td>Mott St &amp; Prince St</td>\n",
       "      <td>15683</td>\n",
       "      <td>Customer</td>\n",
       "      <td>NaN</td>\n",
       "      <td>0</td>\n",
       "      <td>seth26@example.net</td>\n",
       "      <td>PWs7OnO37x</td>\n",
       "    </tr>\n",
       "    <tr>\n",
       "      <th>4209</th>\n",
       "      <td>Jennifer</td>\n",
       "      <td>Sanchez</td>\n",
       "      <td>914</td>\n",
       "      <td>301</td>\n",
       "      <td>E 2 St &amp; Avenue B</td>\n",
       "      <td>251</td>\n",
       "      <td>Mott St &amp; Prince St</td>\n",
       "      <td>20219</td>\n",
       "      <td>Customer</td>\n",
       "      <td>NaN</td>\n",
       "      <td>0</td>\n",
       "      <td>tamara26@example.org</td>\n",
       "      <td>NNEAV3nI8i</td>\n",
       "    </tr>\n",
       "    <tr>\n",
       "      <th>4210</th>\n",
       "      <td>Steven</td>\n",
       "      <td>Riley</td>\n",
       "      <td>1581</td>\n",
       "      <td>301</td>\n",
       "      <td>E 2 St &amp; Avenue B</td>\n",
       "      <td>465</td>\n",
       "      <td>Broadway &amp; W 41 St</td>\n",
       "      <td>23176</td>\n",
       "      <td>Subscriber</td>\n",
       "      <td>1996.0</td>\n",
       "      <td>2</td>\n",
       "      <td>carlosstevenson@example.com</td>\n",
       "      <td>dGBYIsZzM2</td>\n",
       "    </tr>\n",
       "    <tr>\n",
       "      <th>4211</th>\n",
       "      <td>Taylor</td>\n",
       "      <td>Hancock</td>\n",
       "      <td>247</td>\n",
       "      <td>301</td>\n",
       "      <td>E 2 St &amp; Avenue B</td>\n",
       "      <td>511</td>\n",
       "      <td>E 14 St &amp; Avenue B</td>\n",
       "      <td>23484</td>\n",
       "      <td>Subscriber</td>\n",
       "      <td>1982.0</td>\n",
       "      <td>1</td>\n",
       "      <td>arnolddaniel@example.com</td>\n",
       "      <td>v2VFozNw7y</td>\n",
       "    </tr>\n",
       "  </tbody>\n",
       "</table>\n",
       "<p>4212 rows × 13 columns</p>\n",
       "</div>"
      ],
      "text/plain": [
       "     first name  last name  tripduration  start station id start station name   \n",
       "0         misty    HarRISs          3117               301  E 2 St & Avenue B  \\\n",
       "1        Alexis   Thompson           690               301  E 2 St & Avenue B   \n",
       "2          Jodi    Sanders           727               301  E 2 St & Avenue B   \n",
       "3       matrick      Evans           698               301  E 2 St & Avenue B   \n",
       "4        Amanda   DaniEEls           351               301  E 2 St & Avenue B   \n",
       "...         ...        ...           ...               ...                ...   \n",
       "4207     Joshua  Donaldson          1225               301  E 2 St & Avenue B   \n",
       "4208     Deanna     Nelson           939               301  E 2 St & Avenue B   \n",
       "4209   Jennifer    Sanchez           914               301  E 2 St & Avenue B   \n",
       "4210     Steven      Riley          1581               301  E 2 St & Avenue B   \n",
       "4211     Taylor    Hancock           247               301  E 2 St & Avenue B   \n",
       "\n",
       "      end station id          end station name  bikeid    usertype   \n",
       "0                301         E 2 St & Avenue B   18070  Subscriber  \\\n",
       "1                349   Rivington St & Ridge St   19699  Subscriber   \n",
       "2               2010      Grand St & Greene St   20953  Subscriber   \n",
       "3                527           E 33 St & 2 Ave   23566  Subscriber   \n",
       "4                250  Lafayette St & Jersey St   17545  Subscriber   \n",
       "...              ...                       ...     ...         ...   \n",
       "4207             442           W 27 St & 7 Ave   15859    Customer   \n",
       "4208             251       Mott St & Prince St   15683    Customer   \n",
       "4209             251       Mott St & Prince St   20219    Customer   \n",
       "4210             465        Broadway & W 41 St   23176  Subscriber   \n",
       "4211             511        E 14 St & Avenue B   23484  Subscriber   \n",
       "\n",
       "      birth year  gender                       emails         pin  \n",
       "0         1986.0       1    osborneangela@example.com  JPCeiknPMw  \n",
       "1         1985.0       1          sbutler@example.net  PSxNqDPDWe  \n",
       "2         1982.0       1          egarcia@example.net  pxTMwm166p  \n",
       "3         1976.0       1           zmoore@example.com  w5dktoeXrq  \n",
       "4         1959.0       1        derrick11@example.com  8hHtmBR0Tt  \n",
       "...          ...     ...                          ...         ...  \n",
       "4207         NaN       0          kelly26@example.net  NaaPhq7R38  \n",
       "4208         NaN       0           seth26@example.net  PWs7OnO37x  \n",
       "4209         NaN       0         tamara26@example.org  NNEAV3nI8i  \n",
       "4210      1996.0       2  carlosstevenson@example.com  dGBYIsZzM2  \n",
       "4211      1982.0       1     arnolddaniel@example.com  v2VFozNw7y  \n",
       "\n",
       "[4212 rows x 13 columns]"
      ]
     },
     "execution_count": 2,
     "metadata": {},
     "output_type": "execute_result"
    }
   ],
   "source": [
    "df = pd.read_csv('citi-bikes.csv')\n",
    "df"
   ]
  },
  {
   "cell_type": "code",
   "execution_count": 3,
   "id": "738950b4",
   "metadata": {},
   "outputs": [
    {
     "name": "stdout",
     "output_type": "stream",
     "text": [
      "<class 'pandas.core.frame.DataFrame'>\n",
      "RangeIndex: 4212 entries, 0 to 4211\n",
      "Data columns (total 13 columns):\n",
      " #   Column              Non-Null Count  Dtype  \n",
      "---  ------              --------------  -----  \n",
      " 0   first name          4212 non-null   object \n",
      " 1   last name           4212 non-null   object \n",
      " 2   tripduration        4212 non-null   int64  \n",
      " 3   start station id    4212 non-null   int64  \n",
      " 4   start station name  4212 non-null   object \n",
      " 5   end station id      4212 non-null   int64  \n",
      " 6   end station name    4212 non-null   object \n",
      " 7   bikeid              4212 non-null   int64  \n",
      " 8   usertype            4212 non-null   object \n",
      " 9   birth year          3682 non-null   float64\n",
      " 10  gender              4212 non-null   int64  \n",
      " 11  emails              4212 non-null   object \n",
      " 12  pin                 4212 non-null   object \n",
      "dtypes: float64(1), int64(5), object(7)\n",
      "memory usage: 427.9+ KB\n"
     ]
    }
   ],
   "source": [
    "df.info()"
   ]
  },
  {
   "cell_type": "markdown",
   "id": "3abc688b",
   "metadata": {},
   "source": [
    "# Let start the Practice\n",
    "_Don't forget to run all cells before_"
   ]
  },
  {
   "cell_type": "markdown",
   "id": "785b7ee8",
   "metadata": {},
   "source": [
    "**1. Capitalize the column `first name`**  \n",
    "*Save your resulting values in capital_first_name variable*"
   ]
  },
  {
   "cell_type": "code",
   "execution_count": 13,
   "id": "9e9f842a",
   "metadata": {},
   "outputs": [],
   "source": [
    "capital_first_name = df.iloc[:, 0].str.capitalize()\n"
   ]
  },
  {
   "cell_type": "code",
   "execution_count": null,
   "id": "524ab990",
   "metadata": {},
   "outputs": [],
   "source": []
  },
  {
   "cell_type": "markdown",
   "id": "9b7df585",
   "metadata": {},
   "source": [
    "**2. Make the Column `last name` as lower case**   \n",
    "*Store the result in the variable `lower_last_name`*"
   ]
  },
  {
   "cell_type": "code",
   "execution_count": 15,
   "id": "1af65679",
   "metadata": {},
   "outputs": [
    {
     "data": {
      "text/plain": [
       "0         harriss\n",
       "1        thompson\n",
       "2         sanders\n",
       "3           evans\n",
       "4        danieels\n",
       "          ...    \n",
       "4207    donaldson\n",
       "4208       nelson\n",
       "4209      sanchez\n",
       "4210        riley\n",
       "4211      hancock\n",
       "Name: last name, Length: 4212, dtype: object"
      ]
     },
     "execution_count": 15,
     "metadata": {},
     "output_type": "execute_result"
    }
   ],
   "source": [
    "lower_last_name =  df.iloc[:, 1].str.lower()\n",
    "lower_last_name"
   ]
  },
  {
   "cell_type": "code",
   "execution_count": null,
   "id": "13210fc7",
   "metadata": {},
   "outputs": [],
   "source": []
  },
  {
   "cell_type": "markdown",
   "id": "f1949533",
   "metadata": {},
   "source": [
    "**3. Make the Column `last name` as Upper case.**  \n",
    "*Store your answer in the variable `upper_last_name`*"
   ]
  },
  {
   "cell_type": "code",
   "execution_count": 17,
   "id": "ad7c57aa",
   "metadata": {
    "scrolled": true
   },
   "outputs": [],
   "source": [
    "upper_last_name  = df.iloc[:, 1].str.upper()\n"
   ]
  },
  {
   "cell_type": "code",
   "execution_count": null,
   "id": "af7cbf5e",
   "metadata": {},
   "outputs": [],
   "source": []
  },
  {
   "cell_type": "markdown",
   "id": "01d8efa8",
   "metadata": {},
   "source": [
    "### Lets check how many different `usertype` are there:"
   ]
  },
  {
   "cell_type": "code",
   "execution_count": 19,
   "id": "1279be28",
   "metadata": {},
   "outputs": [
    {
     "data": {
      "text/plain": [
       "array(['Subscriber', 'Customer'], dtype=object)"
      ]
     },
     "execution_count": 19,
     "metadata": {},
     "output_type": "execute_result"
    }
   ],
   "source": [
    "usertypes_num = df['usertype'].unique()\n",
    "usertypes_num"
   ]
  },
  {
   "cell_type": "code",
   "execution_count": 20,
   "id": "d1776874",
   "metadata": {},
   "outputs": [
    {
     "data": {
      "text/plain": [
       "2"
      ]
     },
     "execution_count": 20,
     "metadata": {},
     "output_type": "execute_result"
    }
   ],
   "source": [
    "unique_usertype = df['usertype'].nunique()\n",
    "unique_usertype"
   ]
  },
  {
   "cell_type": "code",
   "execution_count": null,
   "id": "eb8615d5",
   "metadata": {},
   "outputs": [],
   "source": []
  },
  {
   "cell_type": "markdown",
   "id": "a4b4024a",
   "metadata": {},
   "source": [
    "**4. How many users in the Column `usertype` are `Customer`**  \n",
    "*Store your result in the variable customer_counts*"
   ]
  },
  {
   "cell_type": "code",
   "execution_count": 30,
   "id": "0a3ba181",
   "metadata": {},
   "outputs": [
    {
     "data": {
      "text/plain": [
       "530"
      ]
     },
     "execution_count": 30,
     "metadata": {},
     "output_type": "execute_result"
    }
   ],
   "source": [
    "customer_counts = df[\"usertype\"].str.count(\"Customer\").sum()\n",
    "customer_counts"
   ]
  },
  {
   "cell_type": "code",
   "execution_count": null,
   "id": "adee5a78",
   "metadata": {},
   "outputs": [],
   "source": []
  },
  {
   "cell_type": "markdown",
   "id": "ba7e4846",
   "metadata": {},
   "source": [
    "**5. How many users in the Column `usertype` are `Subscribers`**"
   ]
  },
  {
   "cell_type": "code",
   "execution_count": 33,
   "id": "f902df28",
   "metadata": {},
   "outputs": [
    {
     "data": {
      "text/plain": [
       "3682"
      ]
     },
     "execution_count": 33,
     "metadata": {},
     "output_type": "execute_result"
    }
   ],
   "source": [
    "subscriber_counts = df[\"usertype\"].str.count(\"Subscriber\").sum()\n",
    "subscriber_counts "
   ]
  },
  {
   "cell_type": "markdown",
   "id": "a1bd81fe",
   "metadata": {},
   "source": [
    "**6. Find the words in Column `pin` which contain the substring `lol`.**  \n",
    "*And store your selection in the variable `word_having_lols`**"
   ]
  },
  {
   "cell_type": "code",
   "execution_count": 34,
   "id": "55814232",
   "metadata": {},
   "outputs": [
    {
     "data": {
      "text/plain": [
       "59        Vtdqzzlolk\n",
       "65          foundlol\n",
       "117       loVulolKDF\n",
       "167       nlolzlVd23\n",
       "2656      6Kolol9toS\n",
       "2660      lolLQigMjv\n",
       "2679        FounDlol\n",
       "2729      26lolbYZ66\n",
       "2744      PlolJhPbGQ\n",
       "2765     UuwlolrTHDW\n",
       "2783      kzlolZJvRk\n",
       "2804      kfJAlolWxZ\n",
       "2828      Eh8lolEwKd\n",
       "2951    145loleGTrpG\n",
       "Name: pin, dtype: object"
      ]
     },
     "execution_count": 34,
     "metadata": {},
     "output_type": "execute_result"
    }
   ],
   "source": [
    "word_having_lols = df[\"pin\"].str.contains(\"lol\")\n",
    "df['pin'][word_having_lols]"
   ]
  },
  {
   "cell_type": "code",
   "execution_count": null,
   "id": "af576a2d",
   "metadata": {},
   "outputs": [],
   "source": []
  },
  {
   "cell_type": "markdown",
   "id": "0cd5d7e7",
   "metadata": {},
   "source": [
    "**7. Find the names in the Column `first name` which start with `Z`.**   \n",
    "*Store your result in the variable `starts_with_z`*"
   ]
  },
  {
   "cell_type": "code",
   "execution_count": 36,
   "id": "52ea5356",
   "metadata": {},
   "outputs": [
    {
     "data": {
      "text/plain": [
       "233     Zachary\n",
       "348     Zachary\n",
       "431     Zachary\n",
       "651     Zachary\n",
       "847     Zachary\n",
       "1035    Zachary\n",
       "1270    Zachary\n",
       "1366    Zachary\n",
       "1451    Zachary\n",
       "2371    Zachary\n",
       "2508    Zachary\n",
       "2589    Zachary\n",
       "2854    Zachary\n",
       "2964    Zachary\n",
       "3128    Zachary\n",
       "3156    Zachary\n",
       "3535    Zachary\n",
       "3581    Zachary\n",
       "3712    Zachary\n",
       "3814    Zachary\n",
       "Name: first name, dtype: object"
      ]
     },
     "execution_count": 36,
     "metadata": {},
     "output_type": "execute_result"
    }
   ],
   "source": [
    "starts_with_z = df[\"first name\"].str.startswith(\"Z\")\n",
    "df['first name'][starts_with_z]"
   ]
  },
  {
   "cell_type": "code",
   "execution_count": 42,
   "id": "e219ac84",
   "metadata": {},
   "outputs": [
    {
     "data": {
      "text/plain": [
       "20"
      ]
     },
     "execution_count": 42,
     "metadata": {},
     "output_type": "execute_result"
    }
   ],
   "source": []
  },
  {
   "cell_type": "markdown",
   "id": "179d8d74",
   "metadata": {},
   "source": [
    "**8. How many values in the Column `first name` start with the word `Z`**"
   ]
  },
  {
   "cell_type": "code",
   "execution_count": 43,
   "id": "914d9f5c",
   "metadata": {},
   "outputs": [],
   "source": [
    "starts_with_z = df['first name'][starts_with_z].count()"
   ]
  },
  {
   "cell_type": "code",
   "execution_count": null,
   "id": "7c27a8be",
   "metadata": {},
   "outputs": [],
   "source": []
  },
  {
   "cell_type": "markdown",
   "id": "a4abb2e6",
   "metadata": {},
   "source": [
    "**9. Find the names in the Column `last name` which end with 't' and store your result in the variable `ends_with_t`**  "
   ]
  },
  {
   "cell_type": "code",
   "execution_count": 45,
   "id": "6df3fa31",
   "metadata": {},
   "outputs": [
    {
     "data": {
      "text/plain": [
       "67      Lambert\n",
       "101     Elliott\n",
       "111      Knight\n",
       "117     Burnett\n",
       "126       Grant\n",
       "         ...   \n",
       "4107     Hebert\n",
       "4140     Bryant\n",
       "4159    Stewart\n",
       "4181    Garrett\n",
       "4183     Wright\n",
       "Name: last name, Length: 145, dtype: object"
      ]
     },
     "execution_count": 45,
     "metadata": {},
     "output_type": "execute_result"
    }
   ],
   "source": [
    "ends_with_t = df[\"last name\"].str.endswith(\"t\")\n",
    "df['last name'][ends_with_t]"
   ]
  },
  {
   "cell_type": "code",
   "execution_count": null,
   "id": "ea380fda",
   "metadata": {},
   "outputs": [],
   "source": []
  },
  {
   "cell_type": "markdown",
   "id": "30cc9128",
   "metadata": {},
   "source": [
    "**10. How many values in the Column `last name` end with 't'**"
   ]
  },
  {
   "cell_type": "code",
   "execution_count": 47,
   "id": "36b47fda",
   "metadata": {},
   "outputs": [
    {
     "data": {
      "text/plain": [
       "145"
      ]
     },
     "execution_count": 47,
     "metadata": {},
     "output_type": "execute_result"
    }
   ],
   "source": [
    "df['last name'][ends_with_t].count()"
   ]
  },
  {
   "cell_type": "code",
   "execution_count": null,
   "id": "c529810f",
   "metadata": {},
   "outputs": [],
   "source": []
  },
  {
   "cell_type": "markdown",
   "id": "683d24bc",
   "metadata": {},
   "source": [
    "**11. Concatenate 'bikeid' Entries with Space Separator**"
   ]
  },
  {
   "cell_type": "code",
   "execution_count": 48,
   "id": "8e9536c3",
   "metadata": {},
   "outputs": [],
   "source": [
    "# don't remove the code line below\n",
    "df['bikeid']=df['bikeid'].astype(str)\n",
    "############## WRITE YOUR CODE BELOW ##########################\n",
    "\n",
    "spaced_bikeids = df['bikeid'].str.join(\" \")\n",
    "\n"
   ]
  },
  {
   "cell_type": "code",
   "execution_count": 50,
   "id": "901a9a95",
   "metadata": {},
   "outputs": [
    {
     "data": {
      "text/plain": [
       "0       1 8 0 7 0\n",
       "1       1 9 6 9 9\n",
       "2       2 0 9 5 3\n",
       "3       2 3 5 6 6\n",
       "4       1 7 5 4 5\n",
       "          ...    \n",
       "4207    1 5 8 5 9\n",
       "4208    1 5 6 8 3\n",
       "4209    2 0 2 1 9\n",
       "4210    2 3 1 7 6\n",
       "4211    2 3 4 8 4\n",
       "Name: bikeid, Length: 4212, dtype: object"
      ]
     },
     "execution_count": 50,
     "metadata": {},
     "output_type": "execute_result"
    }
   ],
   "source": [
    "spaced_bikeids"
   ]
  },
  {
   "cell_type": "markdown",
   "id": "22558f67",
   "metadata": {},
   "source": [
    "**12. Create a new Column named `name length` having all the lengths of names from the Column `first name`**"
   ]
  },
  {
   "cell_type": "code",
   "execution_count": 51,
   "id": "447e3186",
   "metadata": {},
   "outputs": [],
   "source": [
    "df['name length'] = df[\"first name\"].str.len()"
   ]
  },
  {
   "cell_type": "code",
   "execution_count": null,
   "id": "1bcad6af",
   "metadata": {},
   "outputs": [],
   "source": []
  },
  {
   "cell_type": "markdown",
   "id": "2785d3c2",
   "metadata": {},
   "source": [
    "**13. Find if the Column `pin` has alpha numeric values or it contains only digits**"
   ]
  },
  {
   "cell_type": "code",
   "execution_count": 71,
   "id": "54ba0a2b",
   "metadata": {},
   "outputs": [
    {
     "data": {
      "text/html": [
       "<div>\n",
       "<style scoped>\n",
       "    .dataframe tbody tr th:only-of-type {\n",
       "        vertical-align: middle;\n",
       "    }\n",
       "\n",
       "    .dataframe tbody tr th {\n",
       "        vertical-align: top;\n",
       "    }\n",
       "\n",
       "    .dataframe thead th {\n",
       "        text-align: right;\n",
       "    }\n",
       "</style>\n",
       "<table border=\"1\" class=\"dataframe\">\n",
       "  <thead>\n",
       "    <tr style=\"text-align: right;\">\n",
       "      <th></th>\n",
       "      <th>first name</th>\n",
       "      <th>last name</th>\n",
       "      <th>tripduration</th>\n",
       "      <th>start station id</th>\n",
       "      <th>start station name</th>\n",
       "      <th>end station id</th>\n",
       "      <th>end station name</th>\n",
       "      <th>bikeid</th>\n",
       "      <th>usertype</th>\n",
       "      <th>birth year</th>\n",
       "      <th>gender</th>\n",
       "      <th>emails</th>\n",
       "      <th>pin</th>\n",
       "      <th>name length</th>\n",
       "    </tr>\n",
       "  </thead>\n",
       "  <tbody>\n",
       "    <tr>\n",
       "      <th>0</th>\n",
       "      <td>misty</td>\n",
       "      <td>HarRISs</td>\n",
       "      <td>3117</td>\n",
       "      <td>301</td>\n",
       "      <td>E 2 St &amp; Avenue B</td>\n",
       "      <td>301</td>\n",
       "      <td>E 2 St &amp; Avenue B</td>\n",
       "      <td>18070</td>\n",
       "      <td>Subscriber</td>\n",
       "      <td>1986.0</td>\n",
       "      <td>1</td>\n",
       "      <td>osborneangela@example.com</td>\n",
       "      <td>JPCeiknPMw</td>\n",
       "      <td>5</td>\n",
       "    </tr>\n",
       "    <tr>\n",
       "      <th>1</th>\n",
       "      <td>Alexis</td>\n",
       "      <td>Thompson</td>\n",
       "      <td>690</td>\n",
       "      <td>301</td>\n",
       "      <td>E 2 St &amp; Avenue B</td>\n",
       "      <td>349</td>\n",
       "      <td>Rivington St &amp; Ridge St</td>\n",
       "      <td>19699</td>\n",
       "      <td>Subscriber</td>\n",
       "      <td>1985.0</td>\n",
       "      <td>1</td>\n",
       "      <td>sbutler@example.net</td>\n",
       "      <td>PSxNqDPDWe</td>\n",
       "      <td>6</td>\n",
       "    </tr>\n",
       "    <tr>\n",
       "      <th>5</th>\n",
       "      <td>Douglas</td>\n",
       "      <td>Schroeder</td>\n",
       "      <td>597</td>\n",
       "      <td>301</td>\n",
       "      <td>E 2 St &amp; Avenue B</td>\n",
       "      <td>497</td>\n",
       "      <td>E 17 St &amp; Broadway</td>\n",
       "      <td>17435</td>\n",
       "      <td>Subscriber</td>\n",
       "      <td>1979.0</td>\n",
       "      <td>1</td>\n",
       "      <td>stefanieedwards@example.com</td>\n",
       "      <td>JTRVEvdpkR</td>\n",
       "      <td>7</td>\n",
       "    </tr>\n",
       "    <tr>\n",
       "      <th>18</th>\n",
       "      <td>Kristine</td>\n",
       "      <td>Ashley</td>\n",
       "      <td>1168</td>\n",
       "      <td>301</td>\n",
       "      <td>E 2 St &amp; Avenue B</td>\n",
       "      <td>491</td>\n",
       "      <td>E 24 St &amp; Park Ave S</td>\n",
       "      <td>16899</td>\n",
       "      <td>Customer</td>\n",
       "      <td>NaN</td>\n",
       "      <td>0</td>\n",
       "      <td>charlesjohnson@example.org</td>\n",
       "      <td>uscwJFeZnf</td>\n",
       "      <td>8</td>\n",
       "    </tr>\n",
       "    <tr>\n",
       "      <th>25</th>\n",
       "      <td>Tracy</td>\n",
       "      <td>Peters</td>\n",
       "      <td>952</td>\n",
       "      <td>301</td>\n",
       "      <td>E 2 St &amp; Avenue B</td>\n",
       "      <td>491</td>\n",
       "      <td>E 24 St &amp; Park Ave S</td>\n",
       "      <td>18803</td>\n",
       "      <td>Subscriber</td>\n",
       "      <td>1967.0</td>\n",
       "      <td>2</td>\n",
       "      <td>goodwinkaren@example.org</td>\n",
       "      <td>wOKzDBDXaw</td>\n",
       "      <td>5</td>\n",
       "    </tr>\n",
       "    <tr>\n",
       "      <th>...</th>\n",
       "      <td>...</td>\n",
       "      <td>...</td>\n",
       "      <td>...</td>\n",
       "      <td>...</td>\n",
       "      <td>...</td>\n",
       "      <td>...</td>\n",
       "      <td>...</td>\n",
       "      <td>...</td>\n",
       "      <td>...</td>\n",
       "      <td>...</td>\n",
       "      <td>...</td>\n",
       "      <td>...</td>\n",
       "      <td>...</td>\n",
       "      <td>...</td>\n",
       "    </tr>\n",
       "    <tr>\n",
       "      <th>4192</th>\n",
       "      <td>Luis</td>\n",
       "      <td>Conrad</td>\n",
       "      <td>1002</td>\n",
       "      <td>301</td>\n",
       "      <td>E 2 St &amp; Avenue B</td>\n",
       "      <td>329</td>\n",
       "      <td>Greenwich St &amp; N Moore St</td>\n",
       "      <td>22898</td>\n",
       "      <td>Subscriber</td>\n",
       "      <td>1989.0</td>\n",
       "      <td>1</td>\n",
       "      <td>rtucker@example.net</td>\n",
       "      <td>bCpwBJggPH</td>\n",
       "      <td>4</td>\n",
       "    </tr>\n",
       "    <tr>\n",
       "      <th>4202</th>\n",
       "      <td>David</td>\n",
       "      <td>Mitchell</td>\n",
       "      <td>367</td>\n",
       "      <td>301</td>\n",
       "      <td>E 2 St &amp; Avenue B</td>\n",
       "      <td>300</td>\n",
       "      <td>Shevchenko Pl &amp; E 7 St</td>\n",
       "      <td>23409</td>\n",
       "      <td>Subscriber</td>\n",
       "      <td>1958.0</td>\n",
       "      <td>1</td>\n",
       "      <td>stevenbradley@example.net</td>\n",
       "      <td>kpPImRqCOz</td>\n",
       "      <td>5</td>\n",
       "    </tr>\n",
       "    <tr>\n",
       "      <th>4203</th>\n",
       "      <td>Sonya</td>\n",
       "      <td>Simmons</td>\n",
       "      <td>474</td>\n",
       "      <td>301</td>\n",
       "      <td>E 2 St &amp; Avenue B</td>\n",
       "      <td>229</td>\n",
       "      <td>Great Jones St</td>\n",
       "      <td>16263</td>\n",
       "      <td>Subscriber</td>\n",
       "      <td>1942.0</td>\n",
       "      <td>1</td>\n",
       "      <td>hancockshawn@example.net</td>\n",
       "      <td>XmnfJxqGBd</td>\n",
       "      <td>5</td>\n",
       "    </tr>\n",
       "    <tr>\n",
       "      <th>4204</th>\n",
       "      <td>Michael</td>\n",
       "      <td>Dorsey</td>\n",
       "      <td>523</td>\n",
       "      <td>301</td>\n",
       "      <td>E 2 St &amp; Avenue B</td>\n",
       "      <td>325</td>\n",
       "      <td>E 19 St &amp; 3 Ave</td>\n",
       "      <td>22723</td>\n",
       "      <td>Subscriber</td>\n",
       "      <td>1991.0</td>\n",
       "      <td>1</td>\n",
       "      <td>adamsangelica@example.org</td>\n",
       "      <td>lBYlDojFXY</td>\n",
       "      <td>7</td>\n",
       "    </tr>\n",
       "    <tr>\n",
       "      <th>4206</th>\n",
       "      <td>Kelly</td>\n",
       "      <td>Palmer</td>\n",
       "      <td>401</td>\n",
       "      <td>301</td>\n",
       "      <td>E 2 St &amp; Avenue B</td>\n",
       "      <td>300</td>\n",
       "      <td>Shevchenko Pl &amp; E 7 St</td>\n",
       "      <td>23134</td>\n",
       "      <td>Subscriber</td>\n",
       "      <td>1995.0</td>\n",
       "      <td>1</td>\n",
       "      <td>katrina06@example.org</td>\n",
       "      <td>viVypstgPV</td>\n",
       "      <td>5</td>\n",
       "    </tr>\n",
       "  </tbody>\n",
       "</table>\n",
       "<p>745 rows × 14 columns</p>\n",
       "</div>"
      ],
      "text/plain": [
       "     first name  last name  tripduration  start station id start station name   \n",
       "0         misty    HarRISs          3117               301  E 2 St & Avenue B  \\\n",
       "1        Alexis   Thompson           690               301  E 2 St & Avenue B   \n",
       "5       Douglas  Schroeder           597               301  E 2 St & Avenue B   \n",
       "18     Kristine     Ashley          1168               301  E 2 St & Avenue B   \n",
       "25        Tracy     Peters           952               301  E 2 St & Avenue B   \n",
       "...         ...        ...           ...               ...                ...   \n",
       "4192       Luis     Conrad          1002               301  E 2 St & Avenue B   \n",
       "4202      David   Mitchell           367               301  E 2 St & Avenue B   \n",
       "4203      Sonya    Simmons           474               301  E 2 St & Avenue B   \n",
       "4204    Michael     Dorsey           523               301  E 2 St & Avenue B   \n",
       "4206      Kelly     Palmer           401               301  E 2 St & Avenue B   \n",
       "\n",
       "      end station id           end station name bikeid    usertype   \n",
       "0                301          E 2 St & Avenue B  18070  Subscriber  \\\n",
       "1                349    Rivington St & Ridge St  19699  Subscriber   \n",
       "5                497         E 17 St & Broadway  17435  Subscriber   \n",
       "18               491       E 24 St & Park Ave S  16899    Customer   \n",
       "25               491       E 24 St & Park Ave S  18803  Subscriber   \n",
       "...              ...                        ...    ...         ...   \n",
       "4192             329  Greenwich St & N Moore St  22898  Subscriber   \n",
       "4202             300     Shevchenko Pl & E 7 St  23409  Subscriber   \n",
       "4203             229             Great Jones St  16263  Subscriber   \n",
       "4204             325            E 19 St & 3 Ave  22723  Subscriber   \n",
       "4206             300     Shevchenko Pl & E 7 St  23134  Subscriber   \n",
       "\n",
       "      birth year  gender                       emails         pin  name length  \n",
       "0         1986.0       1    osborneangela@example.com  JPCeiknPMw            5  \n",
       "1         1985.0       1          sbutler@example.net  PSxNqDPDWe            6  \n",
       "5         1979.0       1  stefanieedwards@example.com  JTRVEvdpkR            7  \n",
       "18           NaN       0   charlesjohnson@example.org  uscwJFeZnf            8  \n",
       "25        1967.0       2     goodwinkaren@example.org  wOKzDBDXaw            5  \n",
       "...          ...     ...                          ...         ...          ...  \n",
       "4192      1989.0       1          rtucker@example.net  bCpwBJggPH            4  \n",
       "4202      1958.0       1    stevenbradley@example.net  kpPImRqCOz            5  \n",
       "4203      1942.0       1     hancockshawn@example.net  XmnfJxqGBd            5  \n",
       "4204      1991.0       1    adamsangelica@example.org  lBYlDojFXY            7  \n",
       "4206      1995.0       1        katrina06@example.org  viVypstgPV            5  \n",
       "\n",
       "[745 rows x 14 columns]"
      ]
     },
     "execution_count": 71,
     "metadata": {},
     "output_type": "execute_result"
    }
   ],
   "source": [
    "df[df[\"pin\"].str.isalpha() == True]"
   ]
  },
  {
   "cell_type": "code",
   "execution_count": null,
   "id": "196608ba",
   "metadata": {},
   "outputs": [],
   "source": []
  },
  {
   "cell_type": "markdown",
   "id": "398e5ad9",
   "metadata": {},
   "source": [
    "**14. Verify if the Column `tripduration` has any non-numeric values or it contains digits only**"
   ]
  },
  {
   "cell_type": "code",
   "execution_count": 76,
   "id": "5c94d3aa",
   "metadata": {},
   "outputs": [
    {
     "data": {
      "text/html": [
       "<div>\n",
       "<style scoped>\n",
       "    .dataframe tbody tr th:only-of-type {\n",
       "        vertical-align: middle;\n",
       "    }\n",
       "\n",
       "    .dataframe tbody tr th {\n",
       "        vertical-align: top;\n",
       "    }\n",
       "\n",
       "    .dataframe thead th {\n",
       "        text-align: right;\n",
       "    }\n",
       "</style>\n",
       "<table border=\"1\" class=\"dataframe\">\n",
       "  <thead>\n",
       "    <tr style=\"text-align: right;\">\n",
       "      <th></th>\n",
       "      <th>first name</th>\n",
       "      <th>last name</th>\n",
       "      <th>tripduration</th>\n",
       "      <th>start station id</th>\n",
       "      <th>start station name</th>\n",
       "      <th>end station id</th>\n",
       "      <th>end station name</th>\n",
       "      <th>bikeid</th>\n",
       "      <th>usertype</th>\n",
       "      <th>birth year</th>\n",
       "      <th>gender</th>\n",
       "      <th>emails</th>\n",
       "      <th>pin</th>\n",
       "      <th>name length</th>\n",
       "    </tr>\n",
       "  </thead>\n",
       "  <tbody>\n",
       "  </tbody>\n",
       "</table>\n",
       "</div>"
      ],
      "text/plain": [
       "Empty DataFrame\n",
       "Columns: [first name, last name, tripduration, start station id, start station name, end station id, end station name, bikeid, usertype, birth year, gender, emails, pin, name length]\n",
       "Index: []"
      ]
     },
     "execution_count": 76,
     "metadata": {},
     "output_type": "execute_result"
    }
   ],
   "source": [
    "# don't remove the code line below\n",
    "df['tripduration'] = df['tripduration'].astype(str)\n",
    "############## WRITE YOUR CODE BELOW ##########################\n",
    "df.loc[df[\"tripduration\"].str.isdigit() == False]"
   ]
  },
  {
   "cell_type": "code",
   "execution_count": null,
   "id": "364b40d8",
   "metadata": {},
   "outputs": [],
   "source": []
  },
  {
   "cell_type": "markdown",
   "id": "4121b793",
   "metadata": {},
   "source": [
    "**15. Check if any name in the Column `first name` has digit(s) or number(s) in it.**"
   ]
  },
  {
   "cell_type": "code",
   "execution_count": 80,
   "id": "1a4af18a",
   "metadata": {},
   "outputs": [
    {
     "data": {
      "text/html": [
       "<div>\n",
       "<style scoped>\n",
       "    .dataframe tbody tr th:only-of-type {\n",
       "        vertical-align: middle;\n",
       "    }\n",
       "\n",
       "    .dataframe tbody tr th {\n",
       "        vertical-align: top;\n",
       "    }\n",
       "\n",
       "    .dataframe thead th {\n",
       "        text-align: right;\n",
       "    }\n",
       "</style>\n",
       "<table border=\"1\" class=\"dataframe\">\n",
       "  <thead>\n",
       "    <tr style=\"text-align: right;\">\n",
       "      <th></th>\n",
       "      <th>first name</th>\n",
       "      <th>last name</th>\n",
       "      <th>tripduration</th>\n",
       "      <th>start station id</th>\n",
       "      <th>start station name</th>\n",
       "      <th>end station id</th>\n",
       "      <th>end station name</th>\n",
       "      <th>bikeid</th>\n",
       "      <th>usertype</th>\n",
       "      <th>birth year</th>\n",
       "      <th>gender</th>\n",
       "      <th>emails</th>\n",
       "      <th>pin</th>\n",
       "      <th>name length</th>\n",
       "    </tr>\n",
       "  </thead>\n",
       "  <tbody>\n",
       "  </tbody>\n",
       "</table>\n",
       "</div>"
      ],
      "text/plain": [
       "Empty DataFrame\n",
       "Columns: [first name, last name, tripduration, start station id, start station name, end station id, end station name, bikeid, usertype, birth year, gender, emails, pin, name length]\n",
       "Index: []"
      ]
     },
     "execution_count": 80,
     "metadata": {},
     "output_type": "execute_result"
    }
   ],
   "source": [
    "df.loc[df[\"first name\"].str.isdigit() == True]"
   ]
  },
  {
   "cell_type": "code",
   "execution_count": null,
   "id": "a66a2fac",
   "metadata": {},
   "outputs": [],
   "source": []
  },
  {
   "cell_type": "code",
   "execution_count": null,
   "id": "00620c9b",
   "metadata": {},
   "outputs": [],
   "source": []
  },
  {
   "cell_type": "markdown",
   "id": "2a8d5ed2",
   "metadata": {},
   "source": [
    "**16.Split the emails in the `emails` column at `@` to find the Domain names and store them in the variable `email_domains`**"
   ]
  },
  {
   "cell_type": "code",
   "execution_count": 84,
   "id": "883aaee1",
   "metadata": {},
   "outputs": [
    {
     "data": {
      "text/plain": [
       "0       example.com\n",
       "1       example.net\n",
       "2       example.net\n",
       "3       example.com\n",
       "4       example.com\n",
       "           ...     \n",
       "4207    example.net\n",
       "4208    example.net\n",
       "4209    example.org\n",
       "4210    example.com\n",
       "4211    example.com\n",
       "Name: emails, Length: 4212, dtype: object"
      ]
     },
     "execution_count": 84,
     "metadata": {},
     "output_type": "execute_result"
    }
   ],
   "source": [
    "email_domains= df[\"emails\"].str.split(\"@\").str[1]\n",
    "email_domains"
   ]
  },
  {
   "cell_type": "code",
   "execution_count": null,
   "id": "b74e780f",
   "metadata": {},
   "outputs": [],
   "source": []
  },
  {
   "cell_type": "markdown",
   "id": "f04b270e",
   "metadata": {},
   "source": [
    "**17. Replace the emails having `.edu` with `.org` and store the output in the variable `edu_to_org`**"
   ]
  },
  {
   "cell_type": "code",
   "execution_count": 86,
   "id": "3f44a248",
   "metadata": {
    "scrolled": true
   },
   "outputs": [],
   "source": [
    "edu_to_org = df[\"emails\"].str.replace(\".edu\", \".org\")\n"
   ]
  },
  {
   "cell_type": "code",
   "execution_count": null,
   "id": "eee82026",
   "metadata": {},
   "outputs": [],
   "source": []
  },
  {
   "cell_type": "markdown",
   "id": "90cbd63a",
   "metadata": {},
   "source": [
    "**18. Replace the numeric and the St values in  `end station name` Column with  space ` ` so that we can filter the address without street numbers. Store your result in the variable `clean_address`**\n",
    "\n",
    "*Use `r'\\d+|St'`*"
   ]
  },
  {
   "cell_type": "code",
   "execution_count": 80,
   "id": "5b3a703f",
   "metadata": {},
   "outputs": [],
   "source": [
    "clean_address = df[\"end station name\"].str.replace(r'\\d+|St', )\n"
   ]
  },
  {
   "cell_type": "code",
   "execution_count": null,
   "id": "41e88aeb",
   "metadata": {},
   "outputs": [],
   "source": []
  },
  {
   "cell_type": "code",
   "execution_count": null,
   "id": "e088e610",
   "metadata": {},
   "outputs": [],
   "source": []
  }
 ],
 "metadata": {
  "kernelspec": {
   "display_name": "Python 3 (ipykernel)",
   "language": "python",
   "name": "python3"
  },
  "language_info": {
   "codemirror_mode": {
    "name": "ipython",
    "version": 3
   },
   "file_extension": ".py",
   "mimetype": "text/x-python",
   "name": "python",
   "nbconvert_exporter": "python",
   "pygments_lexer": "ipython3",
   "version": "3.11.0"
  }
 },
 "nbformat": 4,
 "nbformat_minor": 5
}
